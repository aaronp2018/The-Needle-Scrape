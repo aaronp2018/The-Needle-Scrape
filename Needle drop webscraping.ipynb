{
 "cells": [
  {
   "cell_type": "code",
   "execution_count": 4,
   "metadata": {},
   "outputs": [],
   "source": [
    "from bs4 import BeautifulSoup"
   ]
  },
  {
   "cell_type": "code",
   "execution_count": 5,
   "metadata": {},
   "outputs": [],
   "source": [
    "import lxml"
   ]
  },
  {
   "cell_type": "code",
   "execution_count": 6,
   "metadata": {},
   "outputs": [],
   "source": [
    "import pandas as pd"
   ]
  },
  {
   "cell_type": "code",
   "execution_count": 7,
   "metadata": {},
   "outputs": [],
   "source": [
    "html_content = 'webpages/Needledrop_10_10.html'"
   ]
  },
  {
   "cell_type": "code",
   "execution_count": 8,
   "metadata": {},
   "outputs": [],
   "source": [
    "with open(html_content, 'r', encoding='utf-8') as file:\n",
    "    html_content = file.read()"
   ]
  },
  {
   "cell_type": "code",
   "execution_count": 9,
   "metadata": {},
   "outputs": [],
   "source": [
    "\n",
    "soup = BeautifulSoup(html_content, 'html.parser')"
   ]
  },
  {
   "cell_type": "code",
   "execution_count": 10,
   "metadata": {},
   "outputs": [
    {
     "name": "stdout",
     "output_type": "stream",
     "text": [
      "            Artist                        Album\n",
      "0       Charli XCX                         BRAT\n",
      "1    Lingua Ignota             Sinner Get Ready\n",
      "2        Spellling            The Turning Wheel\n",
      "3        Daughters  You Won't Get What You Want\n",
      "4  Kids See Ghosts              KIDS SEE GHOSTS\n",
      "5   Kendrick Lamar          To Pimp A Butterfly\n"
     ]
    }
   ],
   "source": [
    "# Grab the Titles which contain Artist and Album name for the html\n",
    "titles = soup.find_all('h1', class_='entry-title')\n",
    "\n",
    "#Put the titles into a list\n",
    "title_list = [title.find('a').get_text() for title in titles if title.find('a')]\n",
    "\n",
    "#Turn the list into a dataframe\n",
    "df = pd.DataFrame(title_list, columns=['Title'])\n",
    "\n",
    "#Break up the titles column into arist and album\n",
    "df[['Artist', 'Album']] = df['Title'].str.split(' - ', expand=True)\n",
    "\n",
    "#Get Rid of the original title column\n",
    "df = df.drop(columns=['Title'])\n",
    "print(df)"
   ]
  },
  {
   "cell_type": "code",
   "execution_count": 11,
   "metadata": {},
   "outputs": [
    {
     "name": "stdout",
     "output_type": "stream",
     "text": [
      "            Artist                        Album Rating\n",
      "0       Charli XCX                         BRAT  10/10\n",
      "1    Lingua Ignota             Sinner Get Ready  10/10\n",
      "2        Spellling            The Turning Wheel  10/10\n",
      "3        Daughters  You Won't Get What You Want  10/10\n",
      "4  Kids See Ghosts              KIDS SEE GHOSTS  10/10\n",
      "5   Kendrick Lamar          To Pimp A Butterfly  10/10\n"
     ]
    }
   ],
   "source": [
    "#find the rating\n",
    "ratings = soup.find('h2', class_='filter-by-tag').find('a').get_text()\n",
    "\n",
    "# Add the rating to the Album and Artist dataframe\n",
    "df['Rating'] = ratings\n",
    "print(df)"
   ]
  },
  {
   "cell_type": "code",
   "execution_count": null,
   "metadata": {},
   "outputs": [],
   "source": []
  }
 ],
 "metadata": {
  "kernelspec": {
   "display_name": "Python 3",
   "language": "python",
   "name": "python3"
  },
  "language_info": {
   "codemirror_mode": {
    "name": "ipython",
    "version": 3
   },
   "file_extension": ".py",
   "mimetype": "text/x-python",
   "name": "python",
   "nbconvert_exporter": "python",
   "pygments_lexer": "ipython3",
   "version": "3.12.4"
  }
 },
 "nbformat": 4,
 "nbformat_minor": 2
}
